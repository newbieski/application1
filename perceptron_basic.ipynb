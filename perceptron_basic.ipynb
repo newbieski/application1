{
  "nbformat": 4,
  "nbformat_minor": 0,
  "metadata": {
    "colab": {
      "name": "perceptron_basic.ipynb",
      "provenance": [],
      "collapsed_sections": [],
      "authorship_tag": "ABX9TyN8bZ0U+Nvi2nuVfQzFLu1g",
      "include_colab_link": true
    },
    "kernelspec": {
      "name": "python3",
      "display_name": "Python 3"
    },
    "language_info": {
      "name": "python"
    }
  },
  "cells": [
    {
      "cell_type": "markdown",
      "metadata": {
        "id": "view-in-github",
        "colab_type": "text"
      },
      "source": [
        "<a href=\"https://colab.research.google.com/github/newbieski/application1/blob/jupyter_notebook/perceptron_basic.ipynb\" target=\"_parent\"><img src=\"https://colab.research.google.com/assets/colab-badge.svg\" alt=\"Open In Colab\"/></a>"
      ]
    },
    {
      "cell_type": "markdown",
      "source": [
        "Inputs, outputs and weights"
      ],
      "metadata": {
        "id": "wzEuL3uAF7__"
      }
    },
    {
      "cell_type": "code",
      "execution_count": null,
      "metadata": {
        "id": "e6bzOeD4ERGS"
      },
      "outputs": [],
      "source": [
        "import numpy as np"
      ]
    },
    {
      "cell_type": "code",
      "source": [
        "inputs = np.array([[0,0],[0,1],[1,0],[1,1]])"
      ],
      "metadata": {
        "id": "a4uelek-FH3S"
      },
      "execution_count": 3,
      "outputs": []
    },
    {
      "cell_type": "code",
      "source": [
        "inputs.shape"
      ],
      "metadata": {
        "colab": {
          "base_uri": "https://localhost:8080/"
        },
        "id": "UiOznxgIFSzH",
        "outputId": "71d28f2f-95f2-4658-a991-b6c961eea046"
      },
      "execution_count": 4,
      "outputs": [
        {
          "output_type": "execute_result",
          "data": {
            "text/plain": [
              "(4, 2)"
            ]
          },
          "metadata": {},
          "execution_count": 4
        }
      ]
    },
    {
      "cell_type": "code",
      "source": [
        "outputs = np.array([0,0,0,1])"
      ],
      "metadata": {
        "id": "LGKKJrljFbsV"
      },
      "execution_count": 6,
      "outputs": []
    },
    {
      "cell_type": "code",
      "source": [
        "outputs.shape"
      ],
      "metadata": {
        "colab": {
          "base_uri": "https://localhost:8080/"
        },
        "id": "ZJ-ZlgcDFgYy",
        "outputId": "2b9421f3-a745-4097-94e3-0da1c1a4f404"
      },
      "execution_count": 7,
      "outputs": [
        {
          "output_type": "execute_result",
          "data": {
            "text/plain": [
              "(4,)"
            ]
          },
          "metadata": {},
          "execution_count": 7
        }
      ]
    },
    {
      "cell_type": "code",
      "source": [
        "#weights = np.array([1.0, 5.0])\n",
        "weights = np.array([0.0, 0.0])"
      ],
      "metadata": {
        "id": "uS4lT5XAFnof"
      },
      "execution_count": 28,
      "outputs": []
    },
    {
      "cell_type": "code",
      "source": [
        "learning_rate = 0.1"
      ],
      "metadata": {
        "id": "WV9F1GPRFr35"
      },
      "execution_count": 22,
      "outputs": []
    },
    {
      "cell_type": "markdown",
      "source": [
        "Step function"
      ],
      "metadata": {
        "id": "bV6DYjWcF4Bz"
      }
    },
    {
      "cell_type": "code",
      "source": [
        "def step_function(sum) :\n",
        "  if sum >= 1 :\n",
        "    return 1\n",
        "  return 0"
      ],
      "metadata": {
        "id": "gjMbI6CgF7FC"
      },
      "execution_count": 14,
      "outputs": []
    },
    {
      "cell_type": "markdown",
      "source": [
        "Calculate output"
      ],
      "metadata": {
        "id": "xUHFrt-mGQqc"
      }
    },
    {
      "cell_type": "code",
      "source": [
        "def calculate_output(instance) :\n",
        "  s = instance.dot(weights)\n",
        "  return step_function(s)"
      ],
      "metadata": {
        "id": "7xEJw8MuGS3V"
      },
      "execution_count": 15,
      "outputs": []
    },
    {
      "cell_type": "code",
      "source": [
        "calculate_output(np.array([[1,1]]))"
      ],
      "metadata": {
        "colab": {
          "base_uri": "https://localhost:8080/"
        },
        "id": "4fzJSFSLGp2g",
        "outputId": "ec7e41a8-6306-4bd5-ff02-3d88c4a03361"
      },
      "execution_count": 17,
      "outputs": [
        {
          "output_type": "execute_result",
          "data": {
            "text/plain": [
              "0"
            ]
          },
          "metadata": {},
          "execution_count": 17
        }
      ]
    },
    {
      "cell_type": "markdown",
      "source": [
        "Train"
      ],
      "metadata": {
        "id": "vAuFQeM4Gl9Q"
      }
    },
    {
      "cell_type": "code",
      "source": [
        "def train():\n",
        "  total_error = 1\n",
        "  while (total_error != 0) :\n",
        "    total_error = 0\n",
        "    for i in range(len(outputs)) :\n",
        "      prediction = calculate_output(inputs[i])\n",
        "      error = abs(outputs[i] - prediction)\n",
        "      total_error += error\n",
        "      if error > 0 :\n",
        "        for j in range(len(weights)) :\n",
        "          weights[j] = weights[j] + (learning_rate * inputs[i][j] * error)\n",
        "          print('Weight updated : ' + str(weights[j]))\n",
        "      print('Total error : ' + str(total_error))"
      ],
      "metadata": {
        "id": "Ns9iwbfUG749"
      },
      "execution_count": 26,
      "outputs": []
    },
    {
      "cell_type": "code",
      "source": [
        "train()"
      ],
      "metadata": {
        "colab": {
          "base_uri": "https://localhost:8080/"
        },
        "id": "jdiV6PQTK9yl",
        "outputId": "aac0fc65-6a07-4dc4-ace1-0203790b4840"
      },
      "execution_count": 29,
      "outputs": [
        {
          "output_type": "stream",
          "name": "stdout",
          "text": [
            "Total error : 0\n",
            "Total error : 0\n",
            "Total error : 0\n",
            "Weight updated : 0.1\n",
            "Weight updated : 0.1\n",
            "Total error : 1\n",
            "Total error : 0\n",
            "Total error : 0\n",
            "Total error : 0\n",
            "Weight updated : 0.2\n",
            "Weight updated : 0.2\n",
            "Total error : 1\n",
            "Total error : 0\n",
            "Total error : 0\n",
            "Total error : 0\n",
            "Weight updated : 0.30000000000000004\n",
            "Weight updated : 0.30000000000000004\n",
            "Total error : 1\n",
            "Total error : 0\n",
            "Total error : 0\n",
            "Total error : 0\n",
            "Weight updated : 0.4\n",
            "Weight updated : 0.4\n",
            "Total error : 1\n",
            "Total error : 0\n",
            "Total error : 0\n",
            "Total error : 0\n",
            "Weight updated : 0.5\n",
            "Weight updated : 0.5\n",
            "Total error : 1\n",
            "Total error : 0\n",
            "Total error : 0\n",
            "Total error : 0\n",
            "Total error : 0\n"
          ]
        }
      ]
    },
    {
      "cell_type": "markdown",
      "source": [
        "Classification"
      ],
      "metadata": {
        "id": "F6cnvzQsGnBk"
      }
    },
    {
      "cell_type": "code",
      "source": [
        "weights"
      ],
      "metadata": {
        "colab": {
          "base_uri": "https://localhost:8080/"
        },
        "id": "j3aWjmKXMLtK",
        "outputId": "d2c7f26a-0f0f-400c-c2e8-0c9a562ffc7c"
      },
      "execution_count": 30,
      "outputs": [
        {
          "output_type": "execute_result",
          "data": {
            "text/plain": [
              "array([0.5, 0.5])"
            ]
          },
          "metadata": {},
          "execution_count": 30
        }
      ]
    },
    {
      "cell_type": "code",
      "source": [
        "calculate_output(np.array([0, 0]))"
      ],
      "metadata": {
        "colab": {
          "base_uri": "https://localhost:8080/"
        },
        "id": "KCff4NkeMT_6",
        "outputId": "140467e0-2b59-4460-a58e-9bf1f58d165d"
      },
      "execution_count": 31,
      "outputs": [
        {
          "output_type": "execute_result",
          "data": {
            "text/plain": [
              "0"
            ]
          },
          "metadata": {},
          "execution_count": 31
        }
      ]
    },
    {
      "cell_type": "code",
      "source": [
        "calculate_output(np.array([0, 1]))"
      ],
      "metadata": {
        "colab": {
          "base_uri": "https://localhost:8080/"
        },
        "id": "XWqCsjFxMZEi",
        "outputId": "3d52ed2c-a37e-4b55-acce-f5521697d6fb"
      },
      "execution_count": 32,
      "outputs": [
        {
          "output_type": "execute_result",
          "data": {
            "text/plain": [
              "0"
            ]
          },
          "metadata": {},
          "execution_count": 32
        }
      ]
    },
    {
      "cell_type": "code",
      "source": [
        "calculate_output(np.array([1, 0]))"
      ],
      "metadata": {
        "colab": {
          "base_uri": "https://localhost:8080/"
        },
        "id": "Jyxk_zbuMagw",
        "outputId": "7031ad9b-25f4-43bb-a994-676979db7d5e"
      },
      "execution_count": 33,
      "outputs": [
        {
          "output_type": "execute_result",
          "data": {
            "text/plain": [
              "0"
            ]
          },
          "metadata": {},
          "execution_count": 33
        }
      ]
    },
    {
      "cell_type": "code",
      "source": [
        "calculate_output(np.array([1, 1]))"
      ],
      "metadata": {
        "colab": {
          "base_uri": "https://localhost:8080/"
        },
        "id": "MjZXwa-VMcVA",
        "outputId": "7caec5a4-daf4-45b5-d542-7646c2445eed"
      },
      "execution_count": 34,
      "outputs": [
        {
          "output_type": "execute_result",
          "data": {
            "text/plain": [
              "1"
            ]
          },
          "metadata": {},
          "execution_count": 34
        }
      ]
    },
    {
      "cell_type": "code",
      "source": [
        ""
      ],
      "metadata": {
        "id": "HnxQ9RcgMdS6"
      },
      "execution_count": null,
      "outputs": []
    }
  ]
}